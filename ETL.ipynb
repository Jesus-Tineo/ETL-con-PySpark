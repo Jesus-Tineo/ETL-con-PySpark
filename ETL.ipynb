{
 "cells": [
  {
   "cell_type": "markdown",
   "metadata": {},
   "source": [
    "# **CREAR SESIÓN DE PYSPARK**"
   ]
  },
  {
   "cell_type": "code",
   "execution_count": 6,
   "metadata": {},
   "outputs": [],
   "source": [
    "from pyspark.sql import SparkSession\n",
    "from pyspark import SparkContext\n",
    "\n",
    "SpSession = SparkSession\\\n",
    "            .builder\\\n",
    "            .appName(\"Demo Spark\")\\\n",
    "            .getOrCreate()"
   ]
  },
  {
   "cell_type": "code",
   "execution_count": 7,
   "metadata": {},
   "outputs": [],
   "source": [
    "SpContext = SpSession.sparkContext"
   ]
  },
  {
   "cell_type": "markdown",
   "metadata": {},
   "source": [
    "# **CARGA DE DATOS**"
   ]
  },
  {
   "cell_type": "code",
   "execution_count": 11,
   "metadata": {},
   "outputs": [
    {
     "name": "stdout",
     "output_type": "stream",
     "text": [
      "+--------------------+------+---------+------------+----------+------+------------+-----+------+\n",
      "|                 Car|   MPG|Cylinders|Displacement|Horsepower|Weight|Acceleration|Model|Origin|\n",
      "+--------------------+------+---------+------------+----------+------+------------+-----+------+\n",
      "|              STRING|DOUBLE|      INT|      DOUBLE|    DOUBLE|DOUBLE|      DOUBLE|  INT|   CAT|\n",
      "|Chevrolet Chevell...|  18.0|        8|       307.0|     130.0| 3504.|        12.0|   70|    US|\n",
      "|   Buick Skylark 320|  15.0|        8|       350.0|     165.0| 3693.|        11.5|   70|    US|\n",
      "|  Plymouth Satellite|  18.0|        8|       318.0|     150.0| 3436.|        11.0|   70|    US|\n",
      "|       AMC Rebel SST|  16.0|        8|       304.0|     150.0| 3433.|        12.0|   70|    US|\n",
      "+--------------------+------+---------+------------+----------+------+------------+-----+------+\n",
      "only showing top 5 rows\n",
      "\n"
     ]
    }
   ],
   "source": [
    "data = SpSession.read.csv('cars.csv', header=True, sep=\";\")\n",
    "data.show(5)"
   ]
  },
  {
   "cell_type": "markdown",
   "metadata": {},
   "source": [
    "# **CONOCIENDO LA DATA**"
   ]
  },
  {
   "cell_type": "code",
   "execution_count": 12,
   "metadata": {},
   "outputs": [
    {
     "name": "stdout",
     "output_type": "stream",
     "text": [
      "root\n",
      " |-- Car: string (nullable = true)\n",
      " |-- MPG: string (nullable = true)\n",
      " |-- Cylinders: string (nullable = true)\n",
      " |-- Displacement: string (nullable = true)\n",
      " |-- Horsepower: string (nullable = true)\n",
      " |-- Weight: string (nullable = true)\n",
      " |-- Acceleration: string (nullable = true)\n",
      " |-- Model: string (nullable = true)\n",
      " |-- Origin: string (nullable = true)\n",
      "\n"
     ]
    }
   ],
   "source": [
    "data.printSchema()"
   ]
  },
  {
   "cell_type": "code",
   "execution_count": 15,
   "metadata": {},
   "outputs": [
    {
     "data": {
      "text/plain": [
       "['Car',\n",
       " 'MPG',\n",
       " 'Cylinders',\n",
       " 'Displacement',\n",
       " 'Horsepower',\n",
       " 'Weight',\n",
       " 'Acceleration',\n",
       " 'Model',\n",
       " 'Origin']"
      ]
     },
     "execution_count": 15,
     "metadata": {},
     "output_type": "execute_result"
    }
   ],
   "source": [
    "data.columns"
   ]
  },
  {
   "cell_type": "code",
   "execution_count": 16,
   "metadata": {},
   "outputs": [
    {
     "data": {
      "text/plain": [
       "[('Car', 'string'),\n",
       " ('MPG', 'string'),\n",
       " ('Cylinders', 'string'),\n",
       " ('Displacement', 'string'),\n",
       " ('Horsepower', 'string'),\n",
       " ('Weight', 'string'),\n",
       " ('Acceleration', 'string'),\n",
       " ('Model', 'string'),\n",
       " ('Origin', 'string')]"
      ]
     },
     "execution_count": 16,
     "metadata": {},
     "output_type": "execute_result"
    }
   ],
   "source": [
    "data.dtypes"
   ]
  },
  {
   "cell_type": "markdown",
   "metadata": {},
   "source": [
    "# **SELECCIÓN DE COLUMNAS**"
   ]
  },
  {
   "cell_type": "code",
   "execution_count": 23,
   "metadata": {},
   "outputs": [
    {
     "name": "stdout",
     "output_type": "stream",
     "text": [
      "+--------------------------------+\n",
      "|Car                             |\n",
      "+--------------------------------+\n",
      "|STRING                          |\n",
      "|Chevrolet Chevelle Malibu       |\n",
      "|Buick Skylark 320               |\n",
      "|Plymouth Satellite              |\n",
      "|AMC Rebel SST                   |\n",
      "|Ford Torino                     |\n",
      "|Ford Galaxie 500                |\n",
      "|Chevrolet Impala                |\n",
      "|Plymouth Fury iii               |\n",
      "|Pontiac Catalina                |\n",
      "|AMC Ambassador DPL              |\n",
      "|Citroen DS-21 Pallas            |\n",
      "|Chevrolet Chevelle Concours (sw)|\n",
      "|Ford Torino (sw)                |\n",
      "|Plymouth Satellite (sw)         |\n",
      "|AMC Rebel SST (sw)              |\n",
      "|Dodge Challenger SE             |\n",
      "|Plymouth 'Cuda 340              |\n",
      "|Ford Mustang Boss 302           |\n",
      "|Chevrolet Monte Carlo           |\n",
      "+--------------------------------+\n",
      "only showing top 20 rows\n",
      "\n"
     ]
    }
   ],
   "source": [
    "#Método 1\n",
    "data.select(data.Car).show(truncate=False)"
   ]
  },
  {
   "cell_type": "code",
   "execution_count": 24,
   "metadata": {},
   "outputs": [
    {
     "name": "stdout",
     "output_type": "stream",
     "text": [
      "+--------------------------------+\n",
      "|Car                             |\n",
      "+--------------------------------+\n",
      "|STRING                          |\n",
      "|Chevrolet Chevelle Malibu       |\n",
      "|Buick Skylark 320               |\n",
      "|Plymouth Satellite              |\n",
      "|AMC Rebel SST                   |\n",
      "|Ford Torino                     |\n",
      "|Ford Galaxie 500                |\n",
      "|Chevrolet Impala                |\n",
      "|Plymouth Fury iii               |\n",
      "|Pontiac Catalina                |\n",
      "|AMC Ambassador DPL              |\n",
      "|Citroen DS-21 Pallas            |\n",
      "|Chevrolet Chevelle Concours (sw)|\n",
      "|Ford Torino (sw)                |\n",
      "|Plymouth Satellite (sw)         |\n",
      "|AMC Rebel SST (sw)              |\n",
      "|Dodge Challenger SE             |\n",
      "|Plymouth 'Cuda 340              |\n",
      "|Ford Mustang Boss 302           |\n",
      "|Chevrolet Monte Carlo           |\n",
      "+--------------------------------+\n",
      "only showing top 20 rows\n",
      "\n"
     ]
    }
   ],
   "source": [
    "#Método 2\n",
    "data.select(data['Car']).show(truncate=False)"
   ]
  },
  {
   "cell_type": "code",
   "execution_count": 27,
   "metadata": {},
   "outputs": [
    {
     "name": "stdout",
     "output_type": "stream",
     "text": [
      "+--------------------------------+\n",
      "|Car                             |\n",
      "+--------------------------------+\n",
      "|STRING                          |\n",
      "|Chevrolet Chevelle Malibu       |\n",
      "|Buick Skylark 320               |\n",
      "|Plymouth Satellite              |\n",
      "|AMC Rebel SST                   |\n",
      "|Ford Torino                     |\n",
      "|Ford Galaxie 500                |\n",
      "|Chevrolet Impala                |\n",
      "|Plymouth Fury iii               |\n",
      "|Pontiac Catalina                |\n",
      "|AMC Ambassador DPL              |\n",
      "|Citroen DS-21 Pallas            |\n",
      "|Chevrolet Chevelle Concours (sw)|\n",
      "|Ford Torino (sw)                |\n",
      "|Plymouth Satellite (sw)         |\n",
      "|AMC Rebel SST (sw)              |\n",
      "|Dodge Challenger SE             |\n",
      "|Plymouth 'Cuda 340              |\n",
      "|Ford Mustang Boss 302           |\n",
      "|Chevrolet Monte Carlo           |\n",
      "+--------------------------------+\n",
      "only showing top 20 rows\n",
      "\n"
     ]
    }
   ],
   "source": [
    "#Método 3\n",
    "from pyspark.sql.functions import col\n",
    "data.select(col('Car')).show(truncate=False)"
   ]
  },
  {
   "cell_type": "code",
   "execution_count": 46,
   "metadata": {},
   "outputs": [
    {
     "name": "stdout",
     "output_type": "stream",
     "text": [
      "+-------------------------+---------+\n",
      "|Car                      |Cylinders|\n",
      "+-------------------------+---------+\n",
      "|STRING                   |INT      |\n",
      "|Chevrolet Chevelle Malibu|8        |\n",
      "|Buick Skylark 320        |8        |\n",
      "|Plymouth Satellite       |8        |\n",
      "|AMC Rebel SST            |8        |\n",
      "+-------------------------+---------+\n",
      "only showing top 5 rows\n",
      "\n"
     ]
    }
   ],
   "source": [
    "#Método 1 de selección múltiple de columnas\n",
    "data.select(data['Car'], data.Cylinders).show((5),truncate=False)"
   ]
  },
  {
   "cell_type": "code",
   "execution_count": 48,
   "metadata": {},
   "outputs": [
    {
     "name": "stdout",
     "output_type": "stream",
     "text": [
      "+-------------------------+---------+\n",
      "|Car                      |Cylinders|\n",
      "+-------------------------+---------+\n",
      "|STRING                   |INT      |\n",
      "|Chevrolet Chevelle Malibu|8        |\n",
      "|Buick Skylark 320        |8        |\n",
      "|Plymouth Satellite       |8        |\n",
      "|AMC Rebel SST            |8        |\n",
      "+-------------------------+---------+\n",
      "only showing top 5 rows\n",
      "\n"
     ]
    }
   ],
   "source": [
    "#Método 2 de selección múltiple de columnas\n",
    "data.select(data['Car'], data['Cylinders']).show((5),truncate=False)"
   ]
  },
  {
   "cell_type": "code",
   "execution_count": 60,
   "metadata": {},
   "outputs": [
    {
     "name": "stdout",
     "output_type": "stream",
     "text": [
      "+--------------------------------+---------+\n",
      "|CAR                             |Cylinders|\n",
      "+--------------------------------+---------+\n",
      "|STRING                          |INT      |\n",
      "|Chevrolet Chevelle Malibu       |8        |\n",
      "|Buick Skylark 320               |8        |\n",
      "|Plymouth Satellite              |8        |\n",
      "|AMC Rebel SST                   |8        |\n",
      "|Ford Torino                     |8        |\n",
      "|Ford Galaxie 500                |8        |\n",
      "|Chevrolet Impala                |8        |\n",
      "|Plymouth Fury iii               |8        |\n",
      "|Pontiac Catalina                |8        |\n",
      "|AMC Ambassador DPL              |8        |\n",
      "|Citroen DS-21 Pallas            |4        |\n",
      "|Chevrolet Chevelle Concours (sw)|8        |\n",
      "|Ford Torino (sw)                |8        |\n",
      "|Plymouth Satellite (sw)         |8        |\n",
      "|AMC Rebel SST (sw)              |8        |\n",
      "|Dodge Challenger SE             |8        |\n",
      "|Plymouth 'Cuda 340              |8        |\n",
      "|Ford Mustang Boss 302           |8        |\n",
      "|Chevrolet Monte Carlo           |8        |\n",
      "+--------------------------------+---------+\n",
      "only showing top 20 rows\n",
      "\n"
     ]
    }
   ],
   "source": [
    "from pyspark.sql.functions import col\n",
    "#Método 3 de selección múltiple de columnas\n",
    "data.select(col('CAR'), col('Cylinders')).show(truncate=False)"
   ]
  },
  {
   "cell_type": "markdown",
   "metadata": {},
   "source": [
    "# **AGREGAR NUEVAS COLUMNAS**"
   ]
  },
  {
   "cell_type": "code",
   "execution_count": 64,
   "metadata": {},
   "outputs": [
    {
     "name": "stdout",
     "output_type": "stream",
     "text": [
      "+-------------------------+------+---------+------------+----------+------+------------+-----+------+------------+\n",
      "|Car                      |MPG   |Cylinders|Displacement|Horsepower|Weight|Acceleration|Model|Origin|First_Column|\n",
      "+-------------------------+------+---------+------------+----------+------+------------+-----+------+------------+\n",
      "|STRING                   |DOUBLE|INT      |DOUBLE      |DOUBLE    |DOUBLE|DOUBLE      |INT  |CAT   |1           |\n",
      "|Chevrolet Chevelle Malibu|18.0  |8        |307.0       |130.0     |3504. |12.0        |70   |US    |1           |\n",
      "|Buick Skylark 320        |15.0  |8        |350.0       |165.0     |3693. |11.5        |70   |US    |1           |\n",
      "|Plymouth Satellite       |18.0  |8        |318.0       |150.0     |3436. |11.0        |70   |US    |1           |\n",
      "|AMC Rebel SST            |16.0  |8        |304.0       |150.0     |3433. |12.0        |70   |US    |1           |\n",
      "+-------------------------+------+---------+------------+----------+------+------------+-----+------+------------+\n",
      "only showing top 5 rows\n",
      "\n"
     ]
    }
   ],
   "source": [
    "#CASO #1 \n",
    "from pyspark.sql.functions import lit\n",
    "\n",
    "df=data.withColumn('First_Column',lit(1))\n",
    "df.show(5, truncate=False)"
   ]
  },
  {
   "cell_type": "code",
   "execution_count": 80,
   "metadata": {},
   "outputs": [
    {
     "name": "stdout",
     "output_type": "stream",
     "text": [
      "+-------------------------+------+---------+------------+----------+------+------------+-----+------+-------------+------------+\n",
      "|Car                      |MPG   |Cylinders|Displacement|Horsepower|Weight|Acceleration|Model|Origin|Second_Column|Third_Column|\n",
      "+-------------------------+------+---------+------------+----------+------+------------+-----+------+-------------+------------+\n",
      "|STRING                   |DOUBLE|INT      |DOUBLE      |DOUBLE    |DOUBLE|DOUBLE      |INT  |CAT   |2            |Third Column|\n",
      "|Chevrolet Chevelle Malibu|18.0  |8        |307.0       |130.0     |3504. |12.0        |70   |US    |2            |Third Column|\n",
      "|Buick Skylark 320        |15.0  |8        |350.0       |165.0     |3693. |11.5        |70   |US    |2            |Third Column|\n",
      "|Plymouth Satellite       |18.0  |8        |318.0       |150.0     |3436. |11.0        |70   |US    |2            |Third Column|\n",
      "|AMC Rebel SST            |16.0  |8        |304.0       |150.0     |3433. |12.0        |70   |US    |2            |Third Column|\n",
      "+-------------------------+------+---------+------------+----------+------+------------+-----+------+-------------+------------+\n",
      "only showing top 5 rows\n",
      "\n"
     ]
    }
   ],
   "source": [
    "#CASP #2 AGREGAR DOS COLUMNAS\n",
    "from pyspark.sql.functions import lit\n",
    "\n",
    "df=data.withColumn('Second_Column',lit(2)) \\\n",
    "        .withColumn('Third_Column',lit('Third Column'))\n",
    "        \n",
    "df.show(5, truncate=False)"
   ]
  },
  {
   "cell_type": "markdown",
   "metadata": {},
   "source": [
    "# **AGRUPACIÓN**"
   ]
  },
  {
   "cell_type": "code",
   "execution_count": 91,
   "metadata": {},
   "outputs": [
    {
     "name": "stdout",
     "output_type": "stream",
     "text": [
      "+----------+-----+\n",
      "|Horsepower|count|\n",
      "+----------+-----+\n",
      "|     102.0|    1|\n",
      "|     68.00|    6|\n",
      "|     116.0|    1|\n",
      "|     145.0|    7|\n",
      "|     90.00|   20|\n",
      "+----------+-----+\n",
      "only showing top 5 rows\n",
      "\n"
     ]
    }
   ],
   "source": [
    "df.groupBy('Horsepower').count().show(5)"
   ]
  },
  {
   "cell_type": "code",
   "execution_count": 95,
   "metadata": {},
   "outputs": [
    {
     "name": "stdout",
     "output_type": "stream",
     "text": [
      "+------+-----+-----+\n",
      "|Origin|Model|count|\n",
      "+------+-----+-----+\n",
      "| Japan|   76|    4|\n",
      "|    US|   81|   13|\n",
      "|    US|   80|    7|\n",
      "|    US|   76|   22|\n",
      "| Japan|   70|    2|\n",
      "|    US|   78|   22|\n",
      "|Europe|   76|    8|\n",
      "|    US|   70|   27|\n",
      "| Japan|   75|    4|\n",
      "|Europe|   80|    9|\n",
      "+------+-----+-----+\n",
      "only showing top 10 rows\n",
      "\n"
     ]
    }
   ],
   "source": [
    "df.groupBy('Origin','Model').count().show(10)"
   ]
  },
  {
   "cell_type": "markdown",
   "metadata": {},
   "source": [
    "# **ELIMINACIÓN DE COLUMNAS**"
   ]
  },
  {
   "cell_type": "code",
   "execution_count": 98,
   "metadata": {},
   "outputs": [
    {
     "name": "stdout",
     "output_type": "stream",
     "text": [
      "+--------------------+------+---------+------------+----------+------+------------+-----+------+\n",
      "|                 Car|   MPG|Cylinders|Displacement|Horsepower|Weight|Acceleration|Model|Origin|\n",
      "+--------------------+------+---------+------------+----------+------+------------+-----+------+\n",
      "|              STRING|DOUBLE|      INT|      DOUBLE|    DOUBLE|DOUBLE|      DOUBLE|  INT|   CAT|\n",
      "|Chevrolet Chevell...|  18.0|        8|       307.0|     130.0| 3504.|        12.0|   70|    US|\n",
      "|   Buick Skylark 320|  15.0|        8|       350.0|     165.0| 3693.|        11.5|   70|    US|\n",
      "|  Plymouth Satellite|  18.0|        8|       318.0|     150.0| 3436.|        11.0|   70|    US|\n",
      "|       AMC Rebel SST|  16.0|        8|       304.0|     150.0| 3433.|        12.0|   70|    US|\n",
      "+--------------------+------+---------+------------+----------+------+------------+-----+------+\n",
      "only showing top 5 rows\n",
      "\n"
     ]
    }
   ],
   "source": [
    "df = df.drop('Second_Column','Third_Column')\n",
    "df.show(5)"
   ]
  },
  {
   "cell_type": "code",
   "execution_count": 99,
   "metadata": {},
   "outputs": [
    {
     "data": {
      "text/plain": [
       "DataFrame[Car: string, MPG: string, Cylinders: string, Displacement: string, Horsepower: string, Weight: string, Acceleration: string, Model: string, Origin: string]"
      ]
     },
     "execution_count": 99,
     "metadata": {},
     "output_type": "execute_result"
    }
   ],
   "source": [
    "df"
   ]
  },
  {
   "cell_type": "markdown",
   "metadata": {},
   "source": [
    "# **ORDENAR FILAS**"
   ]
  },
  {
   "cell_type": "code",
   "execution_count": 102,
   "metadata": {},
   "outputs": [
    {
     "name": "stdout",
     "output_type": "stream",
     "text": [
      "+---------------------------+----+---------+------------+----------+------+------------+-----+------+\n",
      "|Car                        |MPG |Cylinders|Displacement|Horsepower|Weight|Acceleration|Model|Origin|\n",
      "+---------------------------+----+---------+------------+----------+------+------------+-----+------+\n",
      "|Mazda RX2 Coupe            |19.0|3        |70.00       |97.00     |2330. |13.5        |72   |Japan |\n",
      "|Mazda RX3                  |18.0|3        |70.00       |90.00     |2124. |13.5        |73   |Japan |\n",
      "|Mazda RX-4                 |21.5|3        |80.00       |110.0     |2720. |13.5        |77   |Japan |\n",
      "|Mazda RX-7 GS              |23.7|3        |70.00       |100.0     |2420. |12.5        |80   |Japan |\n",
      "|Ford Pinto Runabout        |21.0|4        |122.0       |86.00     |2226. |16.5        |72   |US    |\n",
      "|Chevrolet Vega (sw)        |22.0|4        |140.0       |72.00     |2408. |19.0        |71   |US    |\n",
      "|Toyota Corolla Mark ii     |24.0|4        |113.0       |95.00     |2372. |15.0        |70   |Japan |\n",
      "|Mercury Capri 2000         |23.0|4        |122.0       |86.00     |2220. |14.0        |71   |US    |\n",
      "|Datsun PL510               |27.0|4        |97.00       |88.00     |2130. |14.5        |70   |Japan |\n",
      "|Opel 1900                  |28.0|4        |116.0       |90.00     |2123. |14.0        |71   |Europe|\n",
      "|Peugeot 504                |25.0|4        |110.0       |87.00     |2672. |17.5        |70   |Europe|\n",
      "|Peugeot 304                |30.0|4        |79.00       |70.00     |2074. |19.5        |71   |Europe|\n",
      "|Saab 99e                   |25.0|4        |104.0       |95.00     |2375. |17.5        |70   |Europe|\n",
      "|Fiat 124B                  |30.0|4        |88.00       |76.00     |2065. |14.5        |71   |Europe|\n",
      "|Datsun PL510               |27.0|4        |97.00       |88.00     |2130. |14.5        |71   |Japan |\n",
      "|Toyota Corolla 1200        |31.0|4        |71.00       |65.00     |1773. |19.0        |71   |Japan |\n",
      "|Toyota Corolla             |25.0|4        |113.0       |95.00     |2228. |14.0        |71   |Japan |\n",
      "|Datsun 1200                |35.0|4        |72.00       |69.00     |1613. |18.0        |71   |Japan |\n",
      "|Volkswagen Super Beetle 117|0   |4        |97.00       |48.00     |1978. |20.0        |71   |Europe|\n",
      "|Volkswagen Model 111       |27.0|4        |97.00       |60.00     |1834. |19.0        |71   |Europe|\n",
      "+---------------------------+----+---------+------------+----------+------+------------+-----+------+\n",
      "only showing top 20 rows\n",
      "\n"
     ]
    }
   ],
   "source": [
    "df.orderBy('Cylinders').show(truncate=False)"
   ]
  },
  {
   "cell_type": "code",
   "execution_count": 103,
   "metadata": {},
   "outputs": [
    {
     "name": "stdout",
     "output_type": "stream",
     "text": [
      "+-------------------------+------+---------+------------+----------+------+------------+-----+------+\n",
      "|Car                      |MPG   |Cylinders|Displacement|Horsepower|Weight|Acceleration|Model|Origin|\n",
      "+-------------------------+------+---------+------------+----------+------+------------+-----+------+\n",
      "|STRING                   |DOUBLE|INT      |DOUBLE      |DOUBLE    |DOUBLE|DOUBLE      |INT  |CAT   |\n",
      "|Plymouth 'Cuda 340       |14.0  |8        |340.0       |160.0     |3609. |8.0         |70   |US    |\n",
      "|Chevrolet Chevelle Malibu|18.0  |8        |307.0       |130.0     |3504. |12.0        |70   |US    |\n",
      "|Ford Mustang Boss 302    |0     |8        |302.0       |140.0     |3353. |8.0         |70   |US    |\n",
      "|Buick Skylark 320        |15.0  |8        |350.0       |165.0     |3693. |11.5        |70   |US    |\n",
      "|Chevrolet Monte Carlo    |15.0  |8        |400.0       |150.0     |3761. |9.5         |70   |US    |\n",
      "|AMC Rebel SST            |16.0  |8        |304.0       |150.0     |3433. |12.0        |70   |US    |\n",
      "|Buick Estate Wagon (sw)  |14.0  |8        |455.0       |225.0     |3086. |10.0        |70   |US    |\n",
      "|Ford Galaxie 500         |15.0  |8        |429.0       |198.0     |4341. |10.0        |70   |US    |\n",
      "|Ford F250                |10.0  |8        |360.0       |215.0     |4615. |14.0        |70   |US    |\n",
      "|Plymouth Fury iii        |14.0  |8        |440.0       |215.0     |4312. |8.5         |70   |US    |\n",
      "|Chevy C20                |10.0  |8        |307.0       |200.0     |4376. |15.0        |70   |US    |\n",
      "|AMC Ambassador DPL       |15.0  |8        |390.0       |190.0     |3850. |8.5         |70   |US    |\n",
      "|Dodge D200               |11.0  |8        |318.0       |210.0     |4382. |13.5        |70   |US    |\n",
      "|Ford Torino (sw)         |0     |8        |351.0       |153.0     |4034. |11.0        |70   |US    |\n",
      "|Hi 1200D                 |9.0   |8        |304.0       |193.0     |4732. |18.5        |70   |US    |\n",
      "|AMC Rebel SST (sw)       |0     |8        |360.0       |175.0     |3850. |11.0        |70   |US    |\n",
      "|Chevrolet Impala         |14.0  |8        |350.0       |165.0     |4209. |12.0        |71   |US    |\n",
      "|Dodge Challenger SE      |15.0  |8        |383.0       |170.0     |3563. |10.0        |70   |US    |\n",
      "|Pontiac Catalina Brougham|14.0  |8        |400.0       |175.0     |4464. |11.5        |71   |US    |\n",
      "+-------------------------+------+---------+------------+----------+------+------------+-----+------+\n",
      "only showing top 20 rows\n",
      "\n"
     ]
    }
   ],
   "source": [
    "df.orderBy('Cylinders',ascending=False).show(truncate=False)"
   ]
  },
  {
   "cell_type": "code",
   "execution_count": 109,
   "metadata": {},
   "outputs": [
    {
     "name": "stdout",
     "output_type": "stream",
     "text": [
      "+------+-----+\n",
      "|Origin|count|\n",
      "+------+-----+\n",
      "|US    |254  |\n",
      "|Japan |79   |\n",
      "|Europe|73   |\n",
      "|CAT   |1    |\n",
      "+------+-----+\n",
      "\n"
     ]
    }
   ],
   "source": [
    "df.groupBy('Origin').count().orderBy('count',ascending=False).show(10,truncate=False)"
   ]
  },
  {
   "cell_type": "markdown",
   "metadata": {},
   "source": [
    "# **FILTRACIÓN DE DATOS**"
   ]
  },
  {
   "cell_type": "code",
   "execution_count": 111,
   "metadata": {},
   "outputs": [
    {
     "name": "stdout",
     "output_type": "stream",
     "text": [
      "Total de registros: 407\n"
     ]
    }
   ],
   "source": [
    "total_count=df.count()\n",
    "print(\"Total de registros:\" , total_count)"
   ]
  },
  {
   "cell_type": "code",
   "execution_count": 121,
   "metadata": {},
   "outputs": [
    {
     "name": "stdout",
     "output_type": "stream",
     "text": [
      "TOTAL DE REGISTROS EN EUROPA: 73\n"
     ]
    }
   ],
   "source": [
    "europa= df.filter(col('Origin')==\"Europe\").count()\n",
    "print(\"TOTAL DE REGISTROS EN EUROPA:\" , europa)"
   ]
  },
  {
   "cell_type": "code",
   "execution_count": 122,
   "metadata": {},
   "outputs": [
    {
     "name": "stdout",
     "output_type": "stream",
     "text": [
      "+----------------------------+----+---------+------------+----------+------+------------+-----+------+\n",
      "|Car                         |MPG |Cylinders|Displacement|Horsepower|Weight|Acceleration|Model|Origin|\n",
      "+----------------------------+----+---------+------------+----------+------+------------+-----+------+\n",
      "|Citroen DS-21 Pallas        |0   |4        |133.0       |115.0     |3090. |17.5        |70   |Europe|\n",
      "|Volkswagen 1131 Deluxe Sedan|26.0|4        |97.00       |46.00     |1835. |20.5        |70   |Europe|\n",
      "|Peugeot 504                 |25.0|4        |110.0       |87.00     |2672. |17.5        |70   |Europe|\n",
      "|Audi 100 LS                 |24.0|4        |107.0       |90.00     |2430. |14.5        |70   |Europe|\n",
      "|Saab 99e                    |25.0|4        |104.0       |95.00     |2375. |17.5        |70   |Europe|\n",
      "|BMW 2002                    |26.0|4        |121.0       |113.0     |2234. |12.5        |70   |Europe|\n",
      "|Volkswagen Super Beetle 117 |0   |4        |97.00       |48.00     |1978. |20.0        |71   |Europe|\n",
      "|Opel 1900                   |28.0|4        |116.0       |90.00     |2123. |14.0        |71   |Europe|\n",
      "|Peugeot 304                 |30.0|4        |79.00       |70.00     |2074. |19.5        |71   |Europe|\n",
      "|Fiat 124B                   |30.0|4        |88.00       |76.00     |2065. |14.5        |71   |Europe|\n",
      "|Volkswagen Model 111        |27.0|4        |97.00       |60.00     |1834. |19.0        |71   |Europe|\n",
      "|Volkswagen Type 3           |23.0|4        |97.00       |54.00     |2254. |23.5        |72   |Europe|\n",
      "|Volvo 145e (sw)             |18.0|4        |121.0       |112.0     |2933. |14.5        |72   |Europe|\n",
      "|Volkswagen 411 (sw)         |22.0|4        |121.0       |76.00     |2511. |18.0        |72   |Europe|\n",
      "|Peugeot 504 (sw)            |21.0|4        |120.0       |87.00     |2979. |19.5        |72   |Europe|\n",
      "|Renault 12 (sw)             |26.0|4        |96.00       |69.00     |2189. |18.0        |72   |Europe|\n",
      "|Volkswagen Super Beetle     |26.0|4        |97.00       |46.00     |1950. |21.0        |73   |Europe|\n",
      "|Fiat 124 Sport Coupe        |26.0|4        |98.00       |90.00     |2265. |15.5        |73   |Europe|\n",
      "|Fiat 128                    |29.0|4        |68.00       |49.00     |1867. |19.5        |73   |Europe|\n",
      "|Opel Manta                  |24.0|4        |116.0       |75.00     |2158. |15.5        |73   |Europe|\n",
      "+----------------------------+----+---------+------------+----------+------+------------+-----+------+\n",
      "only showing top 20 rows\n",
      "\n"
     ]
    }
   ],
   "source": [
    "df.filter(col('Origin')==\"Europe\").show(truncate=False)"
   ]
  },
  {
   "cell_type": "code",
   "execution_count": 123,
   "metadata": {},
   "outputs": [
    {
     "name": "stdout",
     "output_type": "stream",
     "text": [
      "+--------------------------------+----+---------+------------+----------+------+------------+-----+------+\n",
      "|Car                             |MPG |Cylinders|Displacement|Horsepower|Weight|Acceleration|Model|Origin|\n",
      "+--------------------------------+----+---------+------------+----------+------+------------+-----+------+\n",
      "|Chevrolet Chevelle Malibu       |18.0|8        |307.0       |130.0     |3504. |12.0        |70   |US    |\n",
      "|Buick Skylark 320               |15.0|8        |350.0       |165.0     |3693. |11.5        |70   |US    |\n",
      "|Plymouth Satellite              |18.0|8        |318.0       |150.0     |3436. |11.0        |70   |US    |\n",
      "|AMC Rebel SST                   |16.0|8        |304.0       |150.0     |3433. |12.0        |70   |US    |\n",
      "|Ford Torino                     |17.0|8        |302.0       |140.0     |3449. |10.5        |70   |US    |\n",
      "|Ford Galaxie 500                |15.0|8        |429.0       |198.0     |4341. |10.0        |70   |US    |\n",
      "|Chevrolet Impala                |14.0|8        |454.0       |220.0     |4354. |9.0         |70   |US    |\n",
      "|Plymouth Fury iii               |14.0|8        |440.0       |215.0     |4312. |8.5         |70   |US    |\n",
      "|Pontiac Catalina                |14.0|8        |455.0       |225.0     |4425. |10.0        |70   |US    |\n",
      "|AMC Ambassador DPL              |15.0|8        |390.0       |190.0     |3850. |8.5         |70   |US    |\n",
      "|Chevrolet Chevelle Concours (sw)|0   |8        |350.0       |165.0     |4142. |11.5        |70   |US    |\n",
      "|Ford Torino (sw)                |0   |8        |351.0       |153.0     |4034. |11.0        |70   |US    |\n",
      "|Plymouth Satellite (sw)         |0   |8        |383.0       |175.0     |4166. |10.5        |70   |US    |\n",
      "|AMC Rebel SST (sw)              |0   |8        |360.0       |175.0     |3850. |11.0        |70   |US    |\n",
      "|Dodge Challenger SE             |15.0|8        |383.0       |170.0     |3563. |10.0        |70   |US    |\n",
      "|Plymouth 'Cuda 340              |14.0|8        |340.0       |160.0     |3609. |8.0         |70   |US    |\n",
      "|Ford Mustang Boss 302           |0   |8        |302.0       |140.0     |3353. |8.0         |70   |US    |\n",
      "|Chevrolet Monte Carlo           |15.0|8        |400.0       |150.0     |3761. |9.5         |70   |US    |\n",
      "|Buick Estate Wagon (sw)         |14.0|8        |455.0       |225.0     |3086. |10.0        |70   |US    |\n",
      "|Plymouth Duster                 |22.0|6        |198.0       |95.00     |2833. |15.5        |70   |US    |\n",
      "+--------------------------------+----+---------+------------+----------+------+------------+-----+------+\n",
      "only showing top 20 rows\n",
      "\n"
     ]
    }
   ],
   "source": [
    "df.filter(col('Origin')==\"US\").show(truncate=False)\n"
   ]
  },
  {
   "cell_type": "markdown",
   "metadata": {},
   "source": [
    "# **FILTRACIÓN MÚLTIPLE**"
   ]
  },
  {
   "cell_type": "code",
   "execution_count": 133,
   "metadata": {},
   "outputs": [
    {
     "name": "stdout",
     "output_type": "stream",
     "text": [
      "TOTAL DE REGISTROS: 407\n",
      "TOTAL DE REGISTROS: 5\n"
     ]
    }
   ],
   "source": [
    "total_count=df.count()\n",
    "print(\"TOTAL DE REGISTROS:\", total_count)\n",
    "usa=df.filter((col('Origin')==\"US\")&(col('Horsepower')==\"170.0\")).count()\n",
    "print(\"TOTAL DE REGISTROS:\", usa)"
   ]
  },
  {
   "cell_type": "code",
   "execution_count": 140,
   "metadata": {},
   "outputs": [
    {
     "name": "stdout",
     "output_type": "stream",
     "text": [
      "TOTAL DE REGISTROS: 407\n",
      "TOTAL DE REGISTROS: 7\n"
     ]
    }
   ],
   "source": [
    "total_count=df.count()\n",
    "print(\"TOTAL DE REGISTROS:\", total_count)\n",
    "usa=df.filter((col('Origin')==\"US\")&(col('Horsepower')==\"175.0\")).count()\n",
    "print(\"TOTAL DE REGISTROS:\", usa)"
   ]
  },
  {
   "cell_type": "code",
   "execution_count": 141,
   "metadata": {},
   "outputs": [
    {
     "name": "stdout",
     "output_type": "stream",
     "text": [
      "+-------------------------+----+---------+------------+----------+------+------------+-----+------+\n",
      "|Car                      |MPG |Cylinders|Displacement|Horsepower|Weight|Acceleration|Model|Origin|\n",
      "+-------------------------+----+---------+------------+----------+------+------------+-----+------+\n",
      "|Plymouth Satellite (sw)  |0   |8        |383.0       |175.0     |4166. |10.5        |70   |US    |\n",
      "|AMC Rebel SST (sw)       |0   |8        |360.0       |175.0     |3850. |11.0        |70   |US    |\n",
      "|Pontiac Catalina Brougham|14.0|8        |400.0       |175.0     |4464. |11.5        |71   |US    |\n",
      "|Pontiac Safari (sw)      |13.0|8        |400.0       |175.0     |5140. |12.0        |71   |US    |\n",
      "|Pontiac Catalina         |14.0|8        |400.0       |175.0     |4385. |12.0        |72   |US    |\n",
      "|Buick Century 350        |13.0|8        |350.0       |175.0     |4100. |13.0        |73   |US    |\n",
      "|AMC Ambassador Brougham  |13.0|8        |360.0       |175.0     |3821. |11.0        |73   |US    |\n",
      "+-------------------------+----+---------+------------+----------+------+------------+-----+------+\n",
      "\n"
     ]
    }
   ],
   "source": [
    "df.filter((col('Origin')==\"US\")&(col('Horsepower')==\"175.0\")).show(truncate=False)\n"
   ]
  }
 ],
 "metadata": {
  "kernelspec": {
   "display_name": "Python 3",
   "language": "python",
   "name": "python3"
  },
  "language_info": {
   "codemirror_mode": {
    "name": "ipython",
    "version": 3
   },
   "file_extension": ".py",
   "mimetype": "text/x-python",
   "name": "python",
   "nbconvert_exporter": "python",
   "pygments_lexer": "ipython3",
   "version": "3.9.1"
  }
 },
 "nbformat": 4,
 "nbformat_minor": 2
}
